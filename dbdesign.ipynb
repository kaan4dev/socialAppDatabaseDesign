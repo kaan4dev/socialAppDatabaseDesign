{
 "cells": [
  {
   "cell_type": "markdown",
   "metadata": {},
   "source": [
    "## Features"
   ]
  },
  {
   "cell_type": "markdown",
   "metadata": {},
   "source": [
    "1. Sign up and create a profile\n",
    "2. Add other profiles as friends\n",
    "3. Add posts that contain text, photos, or videos\n",
    "4. See posts that friends have added\n",
    "5. Like and add comments to posts others have added"
   ]
  },
  {
   "cell_type": "markdown",
   "metadata": {},
   "source": [
    "##### Step 1: Create an Object for User Profile\n",
    "- e-mail\n",
    "- name\n",
    "- last name\n",
    "- password\n",
    "- country \n",
    "- date of birth "
   ]
  },
  {
   "cell_type": "markdown",
   "metadata": {},
   "source": [
    "##### Step 2: Create an Object for Relationship Between Users\n",
    "additional properties:\n",
    "- friendship request\n",
    "- friendship accept-reject"
   ]
  },
  {
   "cell_type": "markdown",
   "metadata": {},
   "source": [
    "#### Step 3: Create a Object For Posts\n",
    "additional properties:\n",
    "- text\n",
    "- media\n",
    "- posted date time  "
   ]
  },
  {
   "cell_type": "markdown",
   "metadata": {},
   "source": [
    "#### Step 4: Create an Object for See Other Friends Posts\n",
    "generally this parts creates in the application codes so we don't need the create this."
   ]
  },
  {
   "cell_type": "markdown",
   "metadata": {},
   "source": [
    "#### Step 5: Create an Object for Liking Posts\n",
    "additional properties:\n",
    "- who likes post\n",
    "- which post is liked\n",
    "- when the user liked post"
   ]
  },
  {
   "cell_type": "markdown",
   "metadata": {},
   "source": [
    "#### Step 6: Create an Object for Commenting To Posts\n",
    "additional properties:\n",
    "- comment text\n",
    "- when the comement created"
   ]
  },
  {
   "cell_type": "markdown",
   "metadata": {},
   "source": [
    "### My Design"
   ]
  },
  {
   "cell_type": "code",
   "execution_count": null,
   "metadata": {
    "vscode": {
     "languageId": "plaintext"
    }
   },
   "outputs": [],
   "source": [
    "Table User \n",
    "{\n",
    "  userID integer [primary key]\n",
    "  email varchar\n",
    "  name varchar\n",
    "  lastName varchar\n",
    "  userName varchar\n",
    "  password varchar\n",
    "  country varchar\n",
    "  dateOfBirth timestamp\n",
    "}\n",
    "\n",
    "Table Friendship\n",
    "{\n",
    "  profileRequest nvarchar\n",
    "  profileAccept bool\n",
    "}\n",
    "\n",
    "Table Post\n",
    "{\n",
    "  postID integer [primary key]\n",
    "  userID integer\n",
    "  text nvarchar(1000)\n",
    "  mediaPath nvarchar\n",
    "  postedDateTime timestamp\n",
    "}\n",
    "\n",
    "Table LikedPost\n",
    "{\n",
    "  likedPostID integer [primary key]\n",
    "  userLikedPost nvarchar\n",
    "  likeDateTime timestamp\n",
    "}\n",
    "\n",
    "Table PostComment\n",
    "{\n",
    "  commentedPostID integer [primary key]\n",
    "  comment nvarchar\n",
    "  userLikedPost nvarchar\n",
    "  commentDateTime timestamp\n",
    "}\n",
    "\n",
    "Ref: User.userID < Friendship.profileRequest\n",
    "Ref: User.userID < Friendship.profileAccept\n",
    "\n",
    "Ref: User.userID < Post.userID\n",
    "\n",
    "Ref: Post.postID > LikedPost.likedPostID\n",
    "Ref: User.userID > LikedPost.userLikedPost\n",
    "\n",
    "Ref: Post.postID > PostComment.commentedPostID"
   ]
  },
  {
   "cell_type": "markdown",
   "metadata": {},
   "source": [
    "## Correct Design"
   ]
  },
  {
   "cell_type": "code",
   "execution_count": null,
   "metadata": {
    "vscode": {
     "languageId": "plaintext"
    }
   },
   "outputs": [],
   "source": [
    "Table User \n",
    "{\n",
    "  userID integer [primary key]\n",
    "  email varchar\n",
    "  name varchar\n",
    "  lastName varchar\n",
    "  userName varchar\n",
    "  password varchar\n",
    "  country varchar\n",
    "  dateOfBirth timestamp\n",
    "}\n",
    "\n",
    "Table Friendship\n",
    "{\n",
    "  profileRequest nvarchar\n",
    "  profileAccept bool\n",
    "}\n",
    "\n",
    "Table Post\n",
    "{\n",
    "  postID integer [primary key]\n",
    "  userID integer\n",
    "  text nvarchar(1000)\n",
    "  mediaPath nvarchar\n",
    "  postedDateTime timestamp\n",
    "}\n",
    "\n",
    "Table LikedPost\n",
    "{\n",
    "  likedPostID integer [primary key]\n",
    "  postID integer\n",
    "  userLikedPost nvarchar\n",
    "  likeDateTime timestamp\n",
    "}\n",
    "\n",
    "Table PostComment\n",
    "{\n",
    "  commentedPostID integer [primary key]\n",
    "  postID integer\n",
    "  comment nvarchar\n",
    "  userLikedPost nvarchar\n",
    "  commentDateTime timestamp\n",
    "}\n",
    "\n",
    "Ref: User.userID < Friendship.profileRequest\n",
    "Ref: User.userID < Friendship.profileAccept\n",
    "\n",
    "Ref: User.userID < Post.userID\n",
    "\n",
    "Ref: Post.postID < LikedPost.postID\n",
    "Ref: User.userID < LikedPost.userLikedPost\n",
    "\n",
    "Ref: Post.postID < PostComment.postID"
   ]
  }
 ],
 "metadata": {
  "language_info": {
   "name": "python"
  }
 },
 "nbformat": 4,
 "nbformat_minor": 2
}
